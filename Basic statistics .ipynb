{
 "cells": [
  {
   "cell_type": "code",
   "execution_count": 1,
   "id": "3d6ed478",
   "metadata": {},
   "outputs": [],
   "source": [
    "def addition(a):\n",
    "    total=0\n",
    "    for i in  a:\n",
    "        total= i+total\n",
    "        \n",
    "    return total"
   ]
  },
  {
   "cell_type": "code",
   "execution_count": 2,
   "id": "92d8b714",
   "metadata": {},
   "outputs": [],
   "source": [
    "list=[1,2,3,4,5,6,7,8,9,10]"
   ]
  },
  {
   "cell_type": "code",
   "execution_count": 3,
   "id": "16391ced",
   "metadata": {},
   "outputs": [
    {
     "data": {
      "text/plain": [
       "55"
      ]
     },
     "execution_count": 3,
     "metadata": {},
     "output_type": "execute_result"
    }
   ],
   "source": [
    "addition(list)"
   ]
  },
  {
   "cell_type": "code",
   "execution_count": 4,
   "id": "eb0c31ef",
   "metadata": {},
   "outputs": [],
   "source": [
    "class Library:\n",
    "    def __init__(self,a):\n",
    "        self.a=a\n",
    "    \n",
    "    def summation(self):\n",
    "        total=0\n",
    "        for i in self.a:\n",
    "            total= i + total\n",
    "        return total\n",
    "    \n",
    "    def maximum(self):\n",
    "        max= self.a[0]\n",
    "        \n",
    "        for i in self.a:\n",
    "            if max<i:\n",
    "                max=i\n",
    "            else:\n",
    "                pass\n",
    "        return max\n",
    "    def minimum(self):\n",
    "        min=self.a[0]\n",
    "        for i in self.a:\n",
    "            if min>i:\n",
    "                min=i\n",
    "            else:\n",
    "                pass\n",
    "        return min\n",
    "    \n",
    "    \n",
    "    def bubblesort(self):\n",
    "        # Swap the elements to arrange in order\n",
    "        for iter_num in range(len(self.a)-1,0,-1):\n",
    "            for idx in range(iter_num):\n",
    "                if self.a[idx]>self.a[idx+1]:\n",
    "                    temp = self.a[idx]\n",
    "                    self.a[idx] = self.a[idx+1]\n",
    "                    self.a[idx+1] = temp\n",
    "                    \n",
    "        return self.a\n",
    "    \n",
    "    def avg(self):\n",
    "        total=0\n",
    "        for i in self.a:\n",
    "            total= i + total\n",
    "        return total/len(self.a)\n",
    "    def average(self):\n",
    "        mean= self.summation()/len(self.a)\n",
    "        return mean\n",
    "    def std(self):\n",
    "        mean=self.average()\n",
    "        std=0\n",
    "        for i in self.a:\n",
    "            std= std+(i-mean)**2\n",
    "        return (std/len(self.a))**0.5\n",
    "    def var(self):\n",
    "        mean=self.average()\n",
    "        val=0\n",
    "        for i in self.a:\n",
    "            val=val+ (i-mean)**2\n",
    "        return val/((len(self.a)-1))\n",
    "        \n",
    "            "
   ]
  },
  {
   "cell_type": "code",
   "execution_count": 5,
   "id": "857c8804",
   "metadata": {},
   "outputs": [],
   "source": [
    "list1 = [19,2,31,45,6,11,121,27]"
   ]
  },
  {
   "cell_type": "code",
   "execution_count": 6,
   "id": "7779ffc1",
   "metadata": {},
   "outputs": [
    {
     "data": {
      "text/plain": [
       "[2, 6, 11, 19, 27, 31, 45, 121]"
      ]
     },
     "execution_count": 6,
     "metadata": {},
     "output_type": "execute_result"
    }
   ],
   "source": [
    "b=Library(list1)\n",
    "b.bubblesort()"
   ]
  },
  {
   "cell_type": "code",
   "execution_count": 7,
   "id": "f203b792",
   "metadata": {},
   "outputs": [
    {
     "data": {
      "text/plain": [
       "32.75"
      ]
     },
     "execution_count": 7,
     "metadata": {},
     "output_type": "execute_result"
    }
   ],
   "source": [
    "b.avg()"
   ]
  },
  {
   "cell_type": "code",
   "execution_count": 8,
   "id": "3ff8ca7c",
   "metadata": {},
   "outputs": [
    {
     "data": {
      "text/plain": [
       "32.75"
      ]
     },
     "execution_count": 8,
     "metadata": {},
     "output_type": "execute_result"
    }
   ],
   "source": [
    "b.average()"
   ]
  },
  {
   "cell_type": "code",
   "execution_count": 9,
   "id": "e929364e",
   "metadata": {},
   "outputs": [
    {
     "data": {
      "text/plain": [
       "1471.0714285714287"
      ]
     },
     "execution_count": 9,
     "metadata": {},
     "output_type": "execute_result"
    }
   ],
   "source": [
    "b.var()"
   ]
  },
  {
   "cell_type": "code",
   "execution_count": 10,
   "id": "5116f152",
   "metadata": {},
   "outputs": [
    {
     "data": {
      "text/plain": [
       "35.87739539041261"
      ]
     },
     "execution_count": 10,
     "metadata": {},
     "output_type": "execute_result"
    }
   ],
   "source": [
    "b.std()"
   ]
  },
  {
   "cell_type": "code",
   "execution_count": null,
   "id": "db0dc0c1",
   "metadata": {},
   "outputs": [],
   "source": []
  }
 ],
 "metadata": {
  "kernelspec": {
   "display_name": "Python 3 (ipykernel)",
   "language": "python",
   "name": "python3"
  },
  "language_info": {
   "codemirror_mode": {
    "name": "ipython",
    "version": 3
   },
   "file_extension": ".py",
   "mimetype": "text/x-python",
   "name": "python",
   "nbconvert_exporter": "python",
   "pygments_lexer": "ipython3",
   "version": "3.9.13"
  }
 },
 "nbformat": 4,
 "nbformat_minor": 5
}
