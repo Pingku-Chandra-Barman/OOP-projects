{
 "cells": [
  {
   "cell_type": "code",
   "execution_count": 1,
   "id": "db0b7569",
   "metadata": {},
   "outputs": [],
   "source": [
    "# Parent class: user\n",
    "# Child class :bank\n",
    "# stores details about the amount\n",
    "# Allows for deposits,withdraw, view balance"
   ]
  },
  {
   "cell_type": "code",
   "execution_count": 2,
   "id": "2951aa70",
   "metadata": {},
   "outputs": [],
   "source": [
    "#Parent Class\n",
    "class User:\n",
    "    def __init__(self,name,age,gender):\n",
    "        self.name=name\n",
    "        self.age=age\n",
    "        self.gender=gender\n",
    "        \n",
    "    def account_details(self):\n",
    "        print('Personal Details:')\n",
    "        print('-----------------------')\n",
    "        print(f'Name: {self.name}')\n",
    "        print(f'Age: {self.age}')\n",
    "        print(f'Gender: {self.gender}')\n",
    "        \n",
    "#Child class\n",
    "class Bank(User):\n",
    "    def __init__(self,name,age,gender):\n",
    "        super().__init__(name,age,gender)\n",
    "        self.balance= 0\n",
    "        \n",
    "        \n",
    "    def deposit(self,amount):\n",
    "        self.amount=amount\n",
    "        self.balance=self.balance + amount\n",
    "        \n",
    "        print('Account Details:')\n",
    "        print('----------------')\n",
    "        print(f'Name: {self.name}')\n",
    "        print(f'Age: {self.age}')\n",
    "        print(f'Gender: {self.gender}')\n",
    "        print('')\n",
    "        print('Deposit of : $',self.amount)\n",
    "        print('Current Account Balance: $',self.balance)\n",
    "             \n",
    "    \n",
    "    \n",
    "    def withdraw(self,amount):\n",
    "        self.amount=amount\n",
    "        if self.amount > self.balance:\n",
    "            print('Insufficient Balance.')\n",
    "        else:\n",
    "            self.balance=self.balance - self.amount\n",
    "            print(f'Account Balance has been updated:$ {self.balance}')\n",
    "    \n",
    "    \n",
    "    def view_balance(self):\n",
    "        self.account_details()\n",
    "        print(f'Current Balance is:$ {self.balance}')"
   ]
  },
  {
   "cell_type": "code",
   "execution_count": 3,
   "id": "c443955b",
   "metadata": {},
   "outputs": [
    {
     "name": "stdout",
     "output_type": "stream",
     "text": [
      "Personal Details:\n",
      "-----------------------\n",
      "Name: Anik\n",
      "Age: 24\n",
      "Gender: Male\n",
      "Account Details:\n",
      "----------------\n",
      "Name: Amol\n",
      "Age: 32\n",
      "Gender: Male\n",
      "\n",
      "Deposit of : $ 2000\n",
      "Current Account Balance: $ 2000\n",
      "Account Details:\n",
      "----------------\n",
      "Name: Amol\n",
      "Age: 32\n",
      "Gender: Male\n",
      "\n",
      "Deposit of : $ 1000\n",
      "Current Account Balance: $ 3000\n"
     ]
    }
   ],
   "source": [
    "        \n",
    "anik=User('Anik',24,'Male')\n",
    "anik.account_details()\n",
    "\n",
    "amol=Bank('Amol',32,'Male')\n",
    "amol.deposit(2000)\n",
    "\n",
    "\n",
    "amol.deposit(1000)"
   ]
  },
  {
   "cell_type": "code",
   "execution_count": 4,
   "id": "2e930bb3",
   "metadata": {},
   "outputs": [
    {
     "name": "stdout",
     "output_type": "stream",
     "text": [
      "Account Balance has been updated:$ 2800\n"
     ]
    }
   ],
   "source": [
    "amol.withdraw(200)"
   ]
  },
  {
   "cell_type": "code",
   "execution_count": 5,
   "id": "d2271596",
   "metadata": {},
   "outputs": [
    {
     "name": "stdout",
     "output_type": "stream",
     "text": [
      "Personal Details:\n",
      "-----------------------\n",
      "Name: Amol\n",
      "Age: 32\n",
      "Gender: Male\n",
      "Current Balance is:$ 2800\n"
     ]
    }
   ],
   "source": [
    "amol.view_balance()"
   ]
  },
  {
   "cell_type": "code",
   "execution_count": null,
   "id": "a6f2d783",
   "metadata": {},
   "outputs": [],
   "source": []
  }
 ],
 "metadata": {
  "kernelspec": {
   "display_name": "Python 3 (ipykernel)",
   "language": "python",
   "name": "python3"
  },
  "language_info": {
   "codemirror_mode": {
    "name": "ipython",
    "version": 3
   },
   "file_extension": ".py",
   "mimetype": "text/x-python",
   "name": "python",
   "nbconvert_exporter": "python",
   "pygments_lexer": "ipython3",
   "version": "3.9.13"
  }
 },
 "nbformat": 4,
 "nbformat_minor": 5
}
