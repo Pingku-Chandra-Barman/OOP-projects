{
 "cells": [
  {
   "cell_type": "code",
   "execution_count": 1,
   "id": "476fbbf0",
   "metadata": {},
   "outputs": [],
   "source": [
    "class Calculator:\n",
    "    def __init__(self,a,b):\n",
    "        self.a=a\n",
    "        self.b=b\n",
    "    def add(self):\n",
    "        return self.a+self.b\n",
    "    def substract(self):\n",
    "        return self.a - self.b\n",
    "    def multiply(self):\n",
    "        return self.a * self.b\n",
    "    def division(self):\n",
    "        try:\n",
    "            return self.a/self.b\n",
    "        except ZeroDivisionError:\n",
    "            return 'It is impossible to divide by zero.'"
   ]
  },
  {
   "cell_type": "code",
   "execution_count": 2,
   "id": "6d344e83",
   "metadata": {},
   "outputs": [],
   "source": [
    "example=Calculator(3,2)"
   ]
  },
  {
   "cell_type": "code",
   "execution_count": 3,
   "id": "f92a6376",
   "metadata": {},
   "outputs": [
    {
     "data": {
      "text/plain": [
       "5"
      ]
     },
     "execution_count": 3,
     "metadata": {},
     "output_type": "execute_result"
    }
   ],
   "source": [
    "example.add()"
   ]
  },
  {
   "cell_type": "code",
   "execution_count": 4,
   "id": "60a755fd",
   "metadata": {},
   "outputs": [
    {
     "data": {
      "text/plain": [
       "1.5"
      ]
     },
     "execution_count": 4,
     "metadata": {},
     "output_type": "execute_result"
    }
   ],
   "source": [
    "example.division()"
   ]
  },
  {
   "cell_type": "code",
   "execution_count": null,
   "id": "5c8ffba1",
   "metadata": {},
   "outputs": [],
   "source": []
  }
 ],
 "metadata": {
  "kernelspec": {
   "display_name": "Python 3 (ipykernel)",
   "language": "python",
   "name": "python3"
  },
  "language_info": {
   "codemirror_mode": {
    "name": "ipython",
    "version": 3
   },
   "file_extension": ".py",
   "mimetype": "text/x-python",
   "name": "python",
   "nbconvert_exporter": "python",
   "pygments_lexer": "ipython3",
   "version": "3.9.13"
  }
 },
 "nbformat": 4,
 "nbformat_minor": 5
}
